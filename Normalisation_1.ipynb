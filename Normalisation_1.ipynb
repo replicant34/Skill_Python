{
 "cells": [
  {
   "cell_type": "code",
   "execution_count": null,
   "id": "548044df",
   "metadata": {},
   "outputs": [],
   "source": [
    "import pandas as pd\n",
    "\n",
    "csv_file_path = 'Daft101.csv'\n",
    "df = pd.read_csv(csv_file_path)\n",
    "\n",
    "duplicate_rows = df[df.duplicated()]\n",
    "num_duplicates = len(duplicate_rows)\n",
    "\n",
    "if num_duplicates > 0:\n",
    "    print(f\"Found {num_duplicates} duplicate rows:\")\n",
    "    print(duplicate_rows)\n",
    "else:\n",
    "    print(\"No duplicate rows found.\")\n"
   ]
  },
  {
   "cell_type": "code",
   "execution_count": null,
   "id": "2e904dd6",
   "metadata": {},
   "outputs": [],
   "source": [
    "def empty_space(input_file, output_file):\n",
    "    with open(input_file, 'r', newline='') as infile, open(output_file, 'w', newline='') as outfile:\n",
    "        reader = csv.reader(infile)\n",
    "        writer = csv.writer(outfile)\n",
    "\n",
    "        for row in reader:\n",
    "            cleaned_row = [cell.strip() if cell else cell for cell in row]\n",
    "            writer.writerow(cleaned_row)\n",
    "\n",
    "input_csv_file = 'Daft101.csv'\n",
    "output_csv_file = 'Daft103.csv'\n",
    "\n",
    "empty_space(input_csv_file, output_csv_file)"
   ]
  },
  {
   "cell_type": "code",
   "execution_count": null,
   "id": "1b06f49b",
   "metadata": {},
   "outputs": [],
   "source": [
    "import re\n",
    "\n",
    "df = pd.read_csv('Daft102.csv')\n",
    "\n",
    "county_pattern = re.compile(r'Co\\.\\s\\w+')\n",
    "\n",
    "def extract_county(address):\n",
    "    county_match = re.search(county_pattern, address)\n",
    "    return county_match.group() if county_match else None\n",
    "\n",
    "df['County'] = df['Address'].apply(extract_county)\n",
    "\n",
    "df.to_csv('Daft104.csv', index=False)\n"
   ]
  },
  {
   "cell_type": "code",
   "execution_count": null,
   "id": "848c9e47",
   "metadata": {},
   "outputs": [],
   "source": [
    "df = pd.read_csv('Daft104.csv')\n",
    "\n",
    "df['County'].fillna('Dublin', inplace=True)\n",
    "\n",
    "df.to_csv('Daft105.csv', index=False)"
   ]
  },
  {
   "cell_type": "code",
   "execution_count": null,
   "id": "9f5821df",
   "metadata": {},
   "outputs": [],
   "source": [
    "df = pd.read_csv('Daft107.csv')\n",
    "\n",
    "df['Bedrooms'] = df['Bedrooms'].str.extract('(\\d+)', expand=False)\n",
    "df['Bathrooms'] = df['Bathrooms'].str.extract('(\\d+)', expand=False)\n",
    "\n",
    "df['Bedrooms'] = pd.to_numeric(df['Bedrooms'], errors='coerce')\n",
    "df['Bathrooms'] = pd.to_numeric(df['Bathrooms'], errors='coerce')\n",
    "\n",
    "df.to_csv('Daft112.csv', index=False)"
   ]
  },
  {
   "cell_type": "code",
   "execution_count": null,
   "id": "e83824d3",
   "metadata": {},
   "outputs": [],
   "source": [
    "df = pd.read_csv('Daft106.csv')\n",
    "\n",
    "df = df[df['Price'].str.isnumeric()]\n",
    "\n",
    "df['Price'] = df['Price'].replace('[\\$,]', '', regex=True).astype(float)\n",
    "\n",
    "df.to_csv('Daft107.csv', index=False)"
   ]
  },
  {
   "cell_type": "code",
   "execution_count": null,
   "id": "13f26156",
   "metadata": {},
   "outputs": [],
   "source": [
    "df = pd.read_csv('Daft112.csv')\n",
    "\n",
    "zip_pattern = re.compile(r'\\b([A-Z\\d]+)\\b')\n",
    "\n",
    "def extract_zip(address):\n",
    "    zip_match = re.search(zip_pattern, address)\n",
    "    return zip_match.group(1) if zip_match else None\n",
    "\n",
    "df['Zipcode'] = df['Address'].apply(extract_zip)\n",
    "\n",
    "df.to_csv('Daft115.csv', index=False)"
   ]
  },
  {
   "cell_type": "code",
   "execution_count": null,
   "id": "718b331e",
   "metadata": {},
   "outputs": [],
   "source": []
  }
 ],
 "metadata": {
  "kernelspec": {
   "display_name": "Python 3 (ipykernel)",
   "language": "python",
   "name": "python3"
  },
  "language_info": {
   "codemirror_mode": {
    "name": "ipython",
    "version": 3
   },
   "file_extension": ".py",
   "mimetype": "text/x-python",
   "name": "python",
   "nbconvert_exporter": "python",
   "pygments_lexer": "ipython3",
   "version": "3.9.13"
  }
 },
 "nbformat": 4,
 "nbformat_minor": 5
}
