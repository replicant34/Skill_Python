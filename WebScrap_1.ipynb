{
 "cells": [
  {
   "cell_type": "code",
   "execution_count": null,
   "id": "ea7c049e",
   "metadata": {},
   "outputs": [],
   "source": [
    "from bs4 import BeautifulSoup\n",
    "import requests\n",
    "import datetime\n",
    "import csv"
   ]
  },
  {
   "cell_type": "code",
   "execution_count": null,
   "id": "a7f5cb2a",
   "metadata": {},
   "outputs": [],
   "source": [
    "base_url = 'https://www.*aft.ie/property-for-sale/ireland?from='\n",
    "add_url = '&pageSize=20'\n",
    "headers = {\n",
    "    \"User-Agent\": \"Mozilla/5.0 (Macintosh; Intel Mac OS X 10_15_7) AppleWebKit/605.1.15 (KHTML, like Gecko) Version/17.0 Safari/605.1.15\"\n",
    "}\n",
    "current_date = datetime.date.today()\n",
    "csv_file_path = 'Daft101.csv'\n",
    "\n",
    "header = ['Address', 'Price', 'Bedrooms', 'Bathrooms', 'Property_type', 'Floor_area','Date']\n",
    "file = open('Daft_101.csv', 'w', newline='', encoding='UTF8')\n",
    "writer = csv.writer(file)\n",
    "writer.writerow(['Address', 'Price', 'Bedrooms', 'Bathrooms', 'Property_type', 'Floor_area','Date'])\n",
    "\n",
    "for i in range(0, 13361, 20):\n",
    "    url = f'{base_url}{i}{add_url}'\n",
    "    \n",
    "    page = requests.get(url, headers=headers)\n",
    "    \n",
    "    if page.status_code == 200:\n",
    "        soup1 = BeautifulSoup(page.content, \"html.parser\")\n",
    "        soup2 = BeautifulSoup(soup1.prettify())\n",
    "\n",
    "        addresses = soup2.find_all('h2', {'data-testid': 'address', 'class': 'TitleBlock__Address-sc-1avkvav-8 dzihyY'})\n",
    "        prices = soup2.find_all('h3', {'class' : \"TitleBlock__StyledCustomHeading-sc-1avkvav-5 blbeVq\"})\n",
    "        bedrooms = soup2.find_all('p', {'data-testid' : 'beds'})\n",
    "        bathrooms = soup2.find_all('p', {'data-testid' : 'baths'})\n",
    "        property_types = soup2.find_all('p', {'data-testid' : 'property-type'})\n",
    "        floor_areas = soup2.find_all('p', {'data-testid': 'floor-area'})\n",
    "\n",
    "\n",
    "        csv_file_path = 'Daft101.csv'\n",
    "\n",
    "        file = open('Daft101.csv', 'a+', newline='')\n",
    "        writer = csv.writer(file)\n",
    "\n",
    "        for address, price, bedroom, bathroom, property_type, floor_area in zip(addresses, prices, bedrooms, bathrooms, property_types, floor_areas):\n",
    "            writer.writerow([address.text, price.text, bedroom.text, bathroom.text, property_type.text, floor_area.text, current_date])\n",
    "        \n",
    "        print(f\"Processed {i} items\")\n",
    "    else:\n",
    "        print(f\"Failed to retrieve data from {url}\")\n"
   ]
  }
 ],
 "metadata": {
  "kernelspec": {
   "display_name": "Python 3 (ipykernel)",
   "language": "python",
   "name": "python3"
  },
  "language_info": {
   "codemirror_mode": {
    "name": "ipython",
    "version": 3
   },
   "file_extension": ".py",
   "mimetype": "text/x-python",
   "name": "python",
   "nbconvert_exporter": "python",
   "pygments_lexer": "ipython3",
   "version": "3.9.13"
  }
 },
 "nbformat": 4,
 "nbformat_minor": 5
}
