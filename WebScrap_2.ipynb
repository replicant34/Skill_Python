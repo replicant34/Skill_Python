{
 "cells": [
  {
   "cell_type": "code",
   "execution_count": 1,
   "id": "adbcec39",
   "metadata": {},
   "outputs": [],
   "source": [
    "from bs4 import BeautifulSoup\n",
    "import requests\n",
    "import smtplib\n",
    "import time\n",
    "import datetime\n"
   ]
  },
  {
   "cell_type": "code",
   "execution_count": 2,
   "id": "c30ac778",
   "metadata": {},
   "outputs": [
    {
     "name": "stdout",
     "output_type": "stream",
     "text": [
      "\n",
      "          86 Waterloo Lane, Ballsbridge, Dublin 4\n",
      "         \n",
      "\n",
      "           €3,700 per month\n",
      "           \n",
      "\n",
      "\n",
      "           3 Bed\n",
      "          \n",
      "\n",
      "           2 Bath\n",
      "          \n",
      "\n",
      "           House\n",
      "          \n"
     ]
    }
   ],
   "source": [
    "url = 'https://www.daft.ie/for-rent/house-86-waterloo-lane-ballsbridge-dublin-4/5516615'\n",
    "headers = {\"User-Agent\": \"Mozilla/5.0 (Macintosh; Intel Mac OS X 10_15_7) AppleWebKit/605.1.15 (KHTML, like Gecko) Version/17.0 Safari/605.1.15\"}\n",
    "page = requests.get(url, headers = headers)\n",
    "soup1 = BeautifulSoup(page.content, \"html.parser\")\n",
    "soup2 = BeautifulSoup(soup1.prettify())\n",
    "address = soup2.find('h1', {'data-testid': 'address', 'class': 'TitleBlock__Address-sc-1avkvav-8 dzihxK'}).get_text()\n",
    "price = soup2.find('h2', {'class' : \"TitleBlock__StyledCustomHeading-sc-1avkvav-5 blbeVq\"}).get_text()\n",
    "bedroom = soup2.find('p', {'data-testid' : 'beds', 'class': \"TitleBlock__CardInfoItem-sc-1avkvav-9 fgXVWJ\"}).get_text()\n",
    "bathroom = soup2.find('p', {'data-testid' : 'baths', 'class': \"TitleBlock__CardInfoItem-sc-1avkvav-9 fgXVWJ\"}).get_text()\n",
    "property_type = soup2.find('p', {'data-testid' : 'property-type', 'class': \"TitleBlock__CardInfoItem-sc-1avkvav-9 cKZYAr\"}).get_text()\n",
    "\n",
    "print(address)\n",
    "print(price)\n",
    "print(bedroom)\n",
    "print(bathroom)\n",
    "print(property_type)\n"
   ]
  },
  {
   "cell_type": "code",
   "execution_count": 3,
   "id": "95334206",
   "metadata": {},
   "outputs": [
    {
     "name": "stdout",
     "output_type": "stream",
     "text": [
      "86 Waterloo Lane, Ballsbridge, Dublin 4\n",
      "3,700 \n",
      "3 Bed\n",
      "2 Bath\n",
      "House\n"
     ]
    }
   ],
   "source": [
    "address = address.strip()\n",
    "price = price.strip()[1:7]\n",
    "bedroom = bedroom.strip()\n",
    "bathroom = bathroom.strip()\n",
    "property_type = property_type.strip()\n",
    "\n",
    "print(address)\n",
    "print(price)\n",
    "print(bedroom)\n",
    "print(bathroom)\n",
    "print(property_type)"
   ]
  },
  {
   "cell_type": "code",
   "execution_count": 4,
   "id": "e6e64064",
   "metadata": {},
   "outputs": [
    {
     "name": "stdout",
     "output_type": "stream",
     "text": [
      "2023-12-11\n"
     ]
    }
   ],
   "source": [
    "import datetime\n",
    "current_date = datetime.date.today()\n",
    "print(current_date)"
   ]
  },
  {
   "cell_type": "code",
   "execution_count": 5,
   "id": "61243e56",
   "metadata": {},
   "outputs": [],
   "source": [
    "import csv\n",
    "header = ['Address', 'Price', 'Bedrooms', 'Bathrooms', 'Type', 'Date']\n",
    "data = [address, price, bedroom, bathroom, property_type, current_date]\n",
    "with open('Daft_Dataset.csv', 'w', newline='', encoding='UTF8') as f:\n",
    "    writer = csv.writer(f)\n",
    "    writer.writerow(header)\n",
    "    writer.writerow(data)"
   ]
  },
  {
   "cell_type": "code",
   "execution_count": 6,
   "id": "f9d371b8",
   "metadata": {},
   "outputs": [
    {
     "name": "stdout",
     "output_type": "stream",
     "text": [
      "                                   Address   Price Bedrooms Bathrooms   Type  \\\n",
      "0  86 Waterloo Lane, Ballsbridge, Dublin 4  3,700     3 Bed    2 Bath  House   \n",
      "\n",
      "         Date  \n",
      "0  2023-12-11  \n"
     ]
    }
   ],
   "source": [
    "import pandas as pd\n",
    "df = pd.read_csv(r'/Users/iliagrishkin/Daft_dataset.csv')\n",
    "print(df)"
   ]
  },
  {
   "cell_type": "code",
   "execution_count": 7,
   "id": "e0f67b27",
   "metadata": {},
   "outputs": [],
   "source": [
    "with open('Daft_Dataset.csv', 'a+', newline='', encoding='UTF8') as f:\n",
    "    writer = csv.writer(f)\n",
    "    writer.writerow(data)"
   ]
  },
  {
   "cell_type": "code",
   "execution_count": 26,
   "id": "8a823e0f",
   "metadata": {},
   "outputs": [],
   "source": [
    "def track_price():\n",
    "    url = 'https://www.daft.ie/for-rent/house-86-waterloo-lane-ballsbridge-dublin-4/5516615'\n",
    "    headers = {\"User-Agent\": \"Mozilla/5.0 (Macintosh; Intel Mac OS X 10_15_7) AppleWebKit/605.1.15 (KHTML, like Gecko) Version/17.0 Safari/605.1.15\"}\n",
    "    page = requests.get(url, headers = headers)\n",
    "    soup1 = BeautifulSoup(page.content, \"html.parser\")\n",
    "    soup2 = BeautifulSoup(soup1.prettify())\n",
    "    address = soup2.find('h1', {'data-testid': 'address', 'class': 'TitleBlock__Address-sc-1avkvav-8 dzihxK'}).get_text()\n",
    "    price = soup2.find('h2', {'class' : \"TitleBlock__StyledCustomHeading-sc-1avkvav-5 blbeVq\"}).get_text()\n",
    "    bedroom = soup2.find('p', {'data-testid' : 'beds', 'class': \"TitleBlock__CardInfoItem-sc-1avkvav-9 fgXVWJ\"}).get_text()\n",
    "    bathroom = soup2.find('p', {'data-testid' : 'baths', 'class': \"TitleBlock__CardInfoItem-sc-1avkvav-9 fgXVWJ\"}).get_text()\n",
    "    property_type = soup2.find('p', {'data-testid' : 'property-type', 'class': \"TitleBlock__CardInfoItem-sc-1avkvav-9 cKZYAr\"}).get_text()\n",
    "    address = address.strip()\n",
    "    price = price.strip()[1:7]\n",
    "    bedroom = bedroom.strip()\n",
    "    bathroom = bathroom.strip()\n",
    "    property_type = property_type.strip()\n",
    "    import datetime\n",
    "    current_date = datetime.date.today()\n",
    "    import csv\n",
    "    header = ['Address', 'Price', 'Bedrooms', 'Bathrooms', 'Type', 'Date']\n",
    "    data = [address, price, bedroom, bathroom, property_type, current_date]\n",
    "    with open('Daft_Dataset.csv', 'a+', newline='', encoding='UTF8') as f:\n",
    "        writer = csv.writer(f)\n",
    "        writer.writerow(data)\n",
    "    if (price < 3600):\n",
    "        send_email()"
   ]
  },
  {
   "cell_type": "code",
   "execution_count": null,
   "id": "f44e525e",
   "metadata": {},
   "outputs": [],
   "source": [
    "while(True):\n",
    "    track_price()\n",
    "    time.sleep(86400)"
   ]
  },
  {
   "cell_type": "code",
   "execution_count": null,
   "id": "cf6cfd31",
   "metadata": {},
   "outputs": [],
   "source": [
    "import pandas as pd\n",
    "df = pd.read_csv(r'/Users/iliagrishkin/Daft_dataset.csv')\n",
    "print(df)"
   ]
  },
  {
   "cell_type": "code",
   "execution_count": 11,
   "id": "f4c9e4d7",
   "metadata": {},
   "outputs": [],
   "source": [
    "def send_email():\n",
    "    from email.message import EmailMessage\n",
    "    import ssl\n",
    "    import smtplib\n",
    "\n",
    "    email_sender = 'replicant0034@gmail.com'\n",
    "    email_password = 'xxxxxxxxxxxxxxxxxxx'\n",
    "    email_reciever = 'replicant0034@gmail.com'\n",
    "\n",
    "    subject = \"The price\" address \"has changed\"\n",
    "    body = \"\"\"\n",
    "    Check on \n",
    "     \"\"\"\n",
    "    url\n",
    "\n",
    "    em = EmailMessage()\n",
    "    em['From'] = email_sender\n",
    "    em['To'] = email_reciever\n",
    "    em['Subject'] = subject\n",
    "    em.set_content(body)\n",
    "\n",
    "    context = ssl.create_default_context()\n",
    "\n",
    "    with smtplib.SMTP_SSL('smtp.gmail.com', 465, context=context) as smtp:\n",
    "        smtp.login(email_sender, email_password)\n",
    "        smtp.sendmail(email_sender, email_reciever, em.as_string() )"
   ]
  }
 ],
 "metadata": {
  "kernelspec": {
   "display_name": "Python 3 (ipykernel)",
   "language": "python",
   "name": "python3"
  },
  "language_info": {
   "codemirror_mode": {
    "name": "ipython",
    "version": 3
   },
   "file_extension": ".py",
   "mimetype": "text/x-python",
   "name": "python",
   "nbconvert_exporter": "python",
   "pygments_lexer": "ipython3",
   "version": "3.9.13"
  }
 },
 "nbformat": 4,
 "nbformat_minor": 5
}
